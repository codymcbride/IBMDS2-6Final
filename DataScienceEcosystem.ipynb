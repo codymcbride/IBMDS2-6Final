{
 "cells": [
  {
   "cell_type": "markdown",
   "id": "120e9dde-d142-456c-bd32-7a5e70bd9267",
   "metadata": {},
   "source": [
    "# Data Science Tools and Ecosystem"
   ]
  },
  {
   "cell_type": "markdown",
   "id": "b0847a10-a399-4138-98f9-9c81c5420257",
   "metadata": {},
   "source": [
    "In this notebook, Data Science Tools and Ecosystem are summarized."
   ]
  },
  {
   "cell_type": "markdown",
   "id": "03aeeb06-3f2c-4bd8-80de-8b49a10329a9",
   "metadata": {},
   "source": [
    "**Objectives:**\n",
    "* List popular languages used by Data Scientists\n",
    "* List popular libraries used by Data Scientists\n",
    "* Use code to convert minutes to hours\n",
    "* Use code to multiply and add integers"
   ]
  },
  {
   "cell_type": "markdown",
   "id": "cb15407a-b5a3-43b1-858b-2be32de35792",
   "metadata": {},
   "source": [
    "Some of the more popular languages used by Data Scientists include:\n",
    "1. R\n",
    "2. Python\n",
    "3. SQL\n",
    "4. Java\n",
    "5. C++"
   ]
  },
  {
   "cell_type": "markdown",
   "id": "4dec381c-d48b-4fef-9ad2-ed94f45f7c41",
   "metadata": {},
   "source": [
    "Some of the more commonly used libraries utilized by Data Scientists include:\n",
    "1. NumPy and Pandas\n",
    "2. Matplotlib\n",
    "3. Seaborn\n",
    "4. Scikit-learn"
   ]
  },
  {
   "cell_type": "markdown",
   "id": "def0a2b5-59b9-4328-a347-a4daa1ced524",
   "metadata": {},
   "source": [
    "| Data Science Tools |\n",
    "| ------------------ |\n",
    "| Relational databases such as MySQL |\n",
    "| File based tools such as Hadoop |\n",
    "| NoSQL databases such as MongoDB |\n"
   ]
  },
  {
   "cell_type": "markdown",
   "id": "968b7fdf-84d1-4056-916f-326b3166b1e8",
   "metadata": {},
   "source": [
    "### Below are a few examples of evaluating arithmetic expressions in Python:"
   ]
  },
  {
   "cell_type": "code",
   "execution_count": 4,
   "id": "7beaf0a4-23e5-4407-81e5-6aa2afc607da",
   "metadata": {
    "tags": []
   },
   "outputs": [
    {
     "data": {
      "text/plain": [
       "17"
      ]
     },
     "execution_count": 4,
     "metadata": {},
     "output_type": "execute_result"
    }
   ],
   "source": [
    "# This is a simple arithmetic expression to multiply and add integers\n",
    "(3*4)+5"
   ]
  },
  {
   "cell_type": "code",
   "execution_count": 5,
   "id": "a85a3254-f67b-48ad-9af4-fcebb4b07a06",
   "metadata": {
    "tags": []
   },
   "outputs": [
    {
     "data": {
      "text/plain": [
       "3.3333333333333335"
      ]
     },
     "execution_count": 5,
     "metadata": {},
     "output_type": "execute_result"
    }
   ],
   "source": [
    "# This will convert 200 minutes to hours by dividing by 60:\n",
    "200/60"
   ]
  },
  {
   "cell_type": "markdown",
   "id": "2d8e32b9-f1b3-4961-a8be-1e8e88ff38c9",
   "metadata": {},
   "source": [
    "## Author\n",
    "Cody McBride"
   ]
  },
  {
   "cell_type": "code",
   "execution_count": null,
   "id": "45ffcd96-e9ec-43b2-9395-eba699e08d3a",
   "metadata": {},
   "outputs": [],
   "source": []
  }
 ],
 "metadata": {
  "kernelspec": {
   "display_name": "Python",
   "language": "python",
   "name": "conda-env-python-py"
  },
  "language_info": {
   "codemirror_mode": {
    "name": "ipython",
    "version": 3
   },
   "file_extension": ".py",
   "mimetype": "text/x-python",
   "name": "python",
   "nbconvert_exporter": "python",
   "pygments_lexer": "ipython3",
   "version": "3.7.12"
  }
 },
 "nbformat": 4,
 "nbformat_minor": 5
}
